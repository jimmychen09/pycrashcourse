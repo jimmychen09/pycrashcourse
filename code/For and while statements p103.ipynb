{
 "cells": [
  {
   "cell_type": "code",
   "execution_count": 14,
   "metadata": {},
   "outputs": [
    {
     "name": "stdout",
     "output_type": "stream",
     "text": [
      "hello Jack\n",
      "Hello Jack\n",
      "hello Jack\n",
      "hello Jill\n",
      "Hello Jill\n",
      "hello Jill\n",
      "hello Joe\n",
      "Hello Joe\n",
      "hello Joe\n"
     ]
    }
   ],
   "source": [
    "users = [\"Jack\", \"Jill\", \"Joe\"]\n",
    "\n",
    "for user in users:\n",
    "    print(\"hello %s\" % user)\n",
    "    print(\"Hello \" + user)\n",
    "    print(\"hello\", user)"
   ]
  },
  {
   "cell_type": "code",
   "execution_count": 15,
   "metadata": {},
   "outputs": [
    {
     "name": "stdout",
     "output_type": "stream",
     "text": [
      "1\n",
      "2\n",
      "3\n"
     ]
    }
   ],
   "source": [
    "for x in [1,2,3]:\n",
    "    print(x)"
   ]
  },
  {
   "cell_type": "code",
   "execution_count": 21,
   "metadata": {},
   "outputs": [
    {
     "name": "stdout",
     "output_type": "stream",
     "text": [
      "the count is:  -1\n",
      "the count is:  0\n",
      "the count is:  1\n",
      "the count is:  2\n",
      "the count is:  3\n",
      "the count is:  4\n",
      "good bye\n"
     ]
    }
   ],
   "source": [
    "count = -1\n",
    "while count < 5:\n",
    "    print(\"the count is: \", count)\n",
    "    count += 1\n",
    "print(\"good bye\")"
   ]
  }
 ],
 "metadata": {
  "kernelspec": {
   "display_name": "Python 3",
   "language": "python",
   "name": "python3"
  },
  "language_info": {
   "codemirror_mode": {
    "name": "ipython",
    "version": 3
   },
   "file_extension": ".py",
   "mimetype": "text/x-python",
   "name": "python",
   "nbconvert_exporter": "python",
   "pygments_lexer": "ipython3",
   "version": "3.6.5"
  }
 },
 "nbformat": 4,
 "nbformat_minor": 2
}
