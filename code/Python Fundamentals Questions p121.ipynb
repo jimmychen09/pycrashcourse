{
 "cells": [
  {
   "cell_type": "code",
   "execution_count": null,
   "metadata": {},
   "outputs": [],
   "source": [
    "def grams_to_ounces(ingredient):\n",
    "    return ingredient / 28.3495231\n",
    "\n",
    "print(grams_to_ounces(float(input(\"Input a number to convert: \"))))"
   ]
  },
  {
   "cell_type": "code",
   "execution_count": 3,
   "metadata": {},
   "outputs": [
    {
     "name": "stdout",
     "output_type": "stream",
     "text": [
      "Input a temperature: 212\n",
      "100.0\n"
     ]
    }
   ],
   "source": [
    "def fahrenheit_to_celcius(temp):\n",
    "    return (temp - 32) * (5 / 9)\n",
    "print(fahrenheit_to_celcius(float(input(\"Input a temperature: \"))))"
   ]
  },
  {
   "cell_type": "code",
   "execution_count": 10,
   "metadata": {},
   "outputs": [
    {
     "name": "stdout",
     "output_type": "stream",
     "text": [
      "enter principal: 100\n",
      "enter rate: 0.2\n",
      "enter number: 6\n",
      "298.5983999999999\n"
     ]
    }
   ],
   "source": [
    "#def amount_obtained(prinical, rate, number):\n",
    "#    return principal * (1 + rate) ** number\n",
    "#principal = float(input(\"enter principal: \"))\n",
    "#rate = float(input(\"enter rate: \"))\n",
    "#number = float(input(\"enter number: \"))\n",
    "#print(amount_obtained(principal, rate, number))\n",
    "\n",
    "def amount_obtained(prinical, rate, number):\n",
    "    return principal * (1 + rate) ** number\n",
    "\n",
    "print(amount_obtained(float(input(\"enter principal: \")), float(input(\"enter rate: \")), float(input(\"enter number: \"))))"
   ]
  }
 ],
 "metadata": {
  "kernelspec": {
   "display_name": "Python 3",
   "language": "python",
   "name": "python3"
  },
  "language_info": {
   "codemirror_mode": {
    "name": "ipython",
    "version": 3
   },
   "file_extension": ".py",
   "mimetype": "text/x-python",
   "name": "python",
   "nbconvert_exporter": "python",
   "pygments_lexer": "ipython3",
   "version": "3.6.5"
  }
 },
 "nbformat": 4,
 "nbformat_minor": 2
}
