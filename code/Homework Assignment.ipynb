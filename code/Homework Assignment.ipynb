{
 "cells": [
  {
   "cell_type": "code",
   "execution_count": null,
   "metadata": {},
   "outputs": [],
   "source": [
    "#Write a program that accepts sequence of lines as input and \n",
    "#prints the lines after making all characters in the sentence capitalized\n",
    "\n",
    "sentence = str.upper(input(\"Enter a sentence to capitalise: \"))\n",
    "print(\"You entered: \" + sentence)"
   ]
  },
  {
   "cell_type": "code",
   "execution_count": null,
   "metadata": {},
   "outputs": [],
   "source": [
    "#Write a program that accepts a sentence and calculate the number of letters and digits.\n",
    "#Attempt 1\n",
    "\n",
    "count_letters = 0\n",
    "count_words = 1\n",
    "\n",
    "sentence = str.upper(input())\n",
    "\n",
    "for character in sentence:\n",
    "    if character in [\"A\",\"B\",\"C\",\"D\",\"E\",\"F\",\"G\",\"H\",\"I\",\"J\",\"K\",\"L\",\"M\",\"N\",\"O\",\"P\",\"Q\",\"R\",\"S\",\"T\",\"U\",\"V\",\"W\",\"X\",\"Y\",\"Z\"]:\n",
    "        count_letters += 1\n",
    "    if character in [\" \"]:\n",
    "        count_words += 1\n",
    "\n",
    "print(\"LETTERS\", count_letters, \"DIGITS\", count_words)"
   ]
  },
  {
   "cell_type": "code",
   "execution_count": null,
   "metadata": {},
   "outputs": [],
   "source": [
    "#Attempt 2\n",
    "\n",
    "list1 = []\n",
    "list2 = [\" \"]\n",
    "\n",
    "for i in input():\n",
    "    if i.isalpha():\n",
    "        list1.append(i)\n",
    "    if i.isspace():\n",
    "        list2.append(i)\n",
    "\n",
    "print(\"LETTERS\", len(list1),\"DIGITS\", len(list2))"
   ]
  },
  {
   "cell_type": "code",
   "execution_count": null,
   "metadata": {},
   "outputs": [],
   "source": [
    "#Attempt 3\n",
    "\n",
    "letters = 0\n",
    "words = 1\n",
    "\n",
    "for i in input():\n",
    "    if i.isalpha():\n",
    "        letters += 1\n",
    "    if i.isspace():\n",
    "        words += 1\n",
    "\n",
    "print(\"LETTERS\", letters, \"DIGITS\", words)"
   ]
  },
  {
   "cell_type": "code",
   "execution_count": 26,
   "metadata": {},
   "outputs": [
    {
     "name": "stdout",
     "output_type": "stream",
     "text": [
      "Enter passwords: ABd1234@1,a F1#,2w3E*,2We3345\n",
      "['ABd1234@1']\n"
     ]
    }
   ],
   "source": [
    "#A website requires the users to input username and password to register. Write a program to check the validity of password input by users.\n",
    "#Following are the criteria for checking the password:\n",
    "#1. At least 1 letter between [a-z]\n",
    "#2. At least 1 number between [0-9]\n",
    "#1. At least 1 letter between [A-Z]\n",
    "#3. At least 1 character from [$#@]\n",
    "#4. Minimum length of transaction password: 6\n",
    "#5. Maximum length of transaction password: 12\n",
    "#Your program should accept a sequence of comma separated passwords and will check them according to the above criteria. Passwords that\n",
    "#match the criteria are to be printed, each separated by a comma.\n",
    "\n",
    "pass_list = []\n",
    "\n",
    "for word in input(\"Enter passwords: \").split(\",\"):\n",
    "    alpha_upper = False\n",
    "    alpha_lower = False\n",
    "    numeric = False\n",
    "    spec_char = False\n",
    "    char_len = False\n",
    "    count = 0\n",
    "    for letter in word:\n",
    "        if letter.isalpha() and letter.isupper():\n",
    "            alpha_upper = True\n",
    "        if letter.isalpha() and letter.islower():\n",
    "            alpha_lower = True\n",
    "        if letter.isnumeric():\n",
    "            numeric = True\n",
    "        if letter in [\"$\", \"#\", \"@\"]:\n",
    "            spec_char = True\n",
    "        if len(word) >= 6 and len(word) <= 12:\n",
    "            char_len = True\n",
    "        if alpha_upper == True and alpha_lower ==True and numeric == True and spec_char == True and char_len == True and count == 0:\n",
    "            pass_list.append(word)\n",
    "            count += 1\n",
    "\n",
    "if bool(pass_list):\n",
    "    print(pass_list)\n",
    "else:\n",
    "    print(\"Password does not match criteria\")"
   ]
  },
  {
   "cell_type": "code",
   "execution_count": null,
   "metadata": {},
   "outputs": [],
   "source": []
  }
 ],
 "metadata": {
  "kernelspec": {
   "display_name": "Python 3",
   "language": "python",
   "name": "python3"
  },
  "language_info": {
   "codemirror_mode": {
    "name": "ipython",
    "version": 3
   },
   "file_extension": ".py",
   "mimetype": "text/x-python",
   "name": "python",
   "nbconvert_exporter": "python",
   "pygments_lexer": "ipython3",
   "version": "3.6.5"
  }
 },
 "nbformat": 4,
 "nbformat_minor": 2
}
